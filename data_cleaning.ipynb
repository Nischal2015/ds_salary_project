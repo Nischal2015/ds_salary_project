{
 "cells": [
  {
   "cell_type": "code",
   "execution_count": 1,
   "id": "79e37c6b-0d44-4797-98aa-afd41e30c737",
   "metadata": {},
   "outputs": [],
   "source": [
    "# Imports the pandas module\n",
    "import pandas as pd"
   ]
  },
  {
   "cell_type": "code",
   "execution_count": 2,
   "id": "c01b658e-bedd-4e55-b62b-0fe94c945ce8",
   "metadata": {},
   "outputs": [
    {
     "data": {
      "text/plain": [
       "(956, 15)"
      ]
     },
     "execution_count": 2,
     "metadata": {},
     "output_type": "execute_result"
    }
   ],
   "source": [
    "# Reads the csv file\n",
    "df= pd.read_csv('glassdoor_jobs.csv')\n",
    "df.shape"
   ]
  },
  {
   "cell_type": "code",
   "execution_count": 3,
   "id": "35ef89e1-08ee-42ac-bdf2-e3ae23569cb7",
   "metadata": {},
   "outputs": [],
   "source": [
    "df['hourly'] = df['Salary Estimate'].apply(lambda x: 1 if 'per hour' in x.lower() else 0)\n",
    "df['employer_provided'] = df['Salary Estimate'].apply(lambda x: 1 if 'employer provided salary' in x.lower() else 0)"
   ]
  },
  {
   "cell_type": "code",
   "execution_count": 4,
   "id": "35539e99-3090-4cd9-bf38-dafe61bdd078",
   "metadata": {},
   "outputs": [
    {
     "data": {
      "text/plain": [
       "(742, 17)"
      ]
     },
     "execution_count": 4,
     "metadata": {},
     "output_type": "execute_result"
    }
   ],
   "source": [
    "df = df[df['Salary Estimate'] != '-1']\n",
    "df.shape"
   ]
  },
  {
   "cell_type": "markdown",
   "id": "740ea7f9-0251-4a00-be9c-2bb35f3d42db",
   "metadata": {},
   "source": [
    "<br><br>\n",
    "## Data cleaning part"
   ]
  },
  {
   "cell_type": "code",
   "execution_count": 5,
   "id": "a891ea2c-132b-4605-a1e8-a93b94f4cca6",
   "metadata": {},
   "outputs": [],
   "source": [
    "# Company name texy only\n",
    "salary = df['Salary Estimate'].apply(lambda x: x.split('(')[0])"
   ]
  },
  {
   "cell_type": "code",
   "execution_count": 6,
   "id": "de697890-4d9b-497f-a944-750c30a50ece",
   "metadata": {},
   "outputs": [],
   "source": [
    "# Remove the case and dollar sign\n",
    "minus_Kd = salary.apply(lambda x: x.replace('K','').replace('$',''))"
   ]
  },
  {
   "cell_type": "code",
   "execution_count": 7,
   "id": "0474eff9-44b6-437a-b64b-067c3503aed5",
   "metadata": {},
   "outputs": [],
   "source": [
    "min_hr = minus_Kd.apply(lambda x: x.lower().replace('per hour', '').replace('employer provided salary:', ''))"
   ]
  },
  {
   "cell_type": "markdown",
   "id": "bda1ab9d-8aa7-4015-b768-89cba08b26bf",
   "metadata": {},
   "source": [
    "<br><br>\n",
    "**This cell calculates max, min and average salary**"
   ]
  },
  {
   "cell_type": "code",
   "execution_count": 8,
   "id": "1cb130f7-27b3-4390-8382-acde73071bb7",
   "metadata": {},
   "outputs": [],
   "source": [
    "df['min_salary'] = min_hr.apply(lambda x: int(x.split('-')[0]))\n",
    "df['max_salary'] = min_hr.apply(lambda x: int(x.split('-')[1]))\n",
    "df['avg_salary'] = (df['min_salary'] + df['max_salary']) / 2"
   ]
  },
  {
   "cell_type": "code",
   "execution_count": 9,
   "id": "b29658db-fec7-4915-b4f4-d35cfa6fb5bc",
   "metadata": {},
   "outputs": [],
   "source": [
    "# Company name and text only\n",
    "df['company_txt'] = df.apply(lambda x: x['Company Name'] if x['Rating']<0 else x['Company Name'][:-3], axis=1)"
   ]
  },
  {
   "cell_type": "code",
   "execution_count": 10,
   "id": "5750ffd2-5eb0-41e4-a950-ff43b13becd3",
   "metadata": {},
   "outputs": [],
   "source": [
    "# State field\n",
    "df['job_state'] = df['Location'].apply(lambda x: x.split(', ')[1])\n",
    "\n",
    "df['same_state'] = df.apply(lambda x: 1 if x.Location==x.Headquarters else 0, axis=1)"
   ]
  },
  {
   "cell_type": "code",
   "execution_count": 11,
   "id": "188cff0b-2fd6-44af-9f5f-3e5bf041c5a9",
   "metadata": {},
   "outputs": [],
   "source": [
    "# Age of the company\n",
    "df['age'] = df['Founded'].apply(lambda x: 2021-x if x>0 else x)"
   ]
  },
  {
   "cell_type": "markdown",
   "id": "6dd0e6aa-d131-41ff-9f7c-446f0fd70e83",
   "metadata": {},
   "source": [
    "<br><br>\n",
    "**This cell checks for the specific keywords in the job description**"
   ]
  },
  {
   "cell_type": "code",
   "execution_count": 12,
   "id": "8a69b642-db6e-4590-a099-417d65bbdfcc",
   "metadata": {},
   "outputs": [
    {
     "data": {
      "text/plain": [
       "1    388\n",
       "0    354\n",
       "Name: excel, dtype: int64"
      ]
     },
     "execution_count": 12,
     "metadata": {},
     "output_type": "execute_result"
    }
   ],
   "source": [
    "# Python\n",
    "df['python_yn'] = df['Job Description'].apply(lambda x: 1 if 'python' in x.lower() else 0)\n",
    "df.python_yn.value_counts()\n",
    "\n",
    "# R studio\n",
    "df['R_yn'] = df['Job Description'].apply(lambda x: 1 if 'r studio' in x.lower() or 'r-studio' in x.lower() else 0)\n",
    "df.R_yn.value_counts()\n",
    "\n",
    "# Spark\n",
    "df['spark'] = df['Job Description'].apply(lambda x: 1 if 'spark' in x.lower() else 0)\n",
    "df.spark.value_counts()\n",
    "\n",
    "#aws\n",
    "df['aws'] = df['Job Description'].apply(lambda x: 1 if 'aws' in x.lower() else 0)\n",
    "df.aws.value_counts()\n",
    "\n",
    "#excel\n",
    "df['excel'] = df['Job Description'].apply(lambda x: 1 if 'excel' in x.lower() else 0)\n",
    "df.excel.value_counts()"
   ]
  },
  {
   "cell_type": "code",
   "execution_count": 13,
   "id": "1d4d2f49-451e-4113-a3de-8f2a411df101",
   "metadata": {
    "tags": []
   },
   "outputs": [],
   "source": [
    "# Drops the first index column\n",
    "df_out = df.drop(['Unnamed: 0'], axis=1)"
   ]
  },
  {
   "cell_type": "markdown",
   "id": "f09b564b-d42b-49cb-8edc-e933ac529095",
   "metadata": {},
   "source": [
    "<br><br>\n",
    "**This cell saves the cleaned data in a seperate csv file**"
   ]
  },
  {
   "cell_type": "code",
   "execution_count": 14,
   "id": "200b3a76-040d-4885-ac5d-18992d74968e",
   "metadata": {
    "tags": []
   },
   "outputs": [],
   "source": [
    "df_out.to_csv('salary_data_cleaned.csv', index=False)"
   ]
  }
 ],
 "metadata": {
  "kernelspec": {
   "display_name": "Python 3",
   "language": "python",
   "name": "python3"
  },
  "language_info": {
   "codemirror_mode": {
    "name": "ipython",
    "version": 3
   },
   "file_extension": ".py",
   "mimetype": "text/x-python",
   "name": "python",
   "nbconvert_exporter": "python",
   "pygments_lexer": "ipython3",
   "version": "3.6.9"
  }
 },
 "nbformat": 4,
 "nbformat_minor": 5
}
